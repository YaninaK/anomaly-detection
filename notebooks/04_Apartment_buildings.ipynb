{
  "nbformat": 4,
  "nbformat_minor": 0,
  "metadata": {
    "colab": {
      "provenance": [],
      "authorship_tag": "ABX9TyNsq8xUl6d8HGZwjAmJT3oe",
      "include_colab_link": true
    },
    "kernelspec": {
      "name": "python3",
      "display_name": "Python 3"
    },
    "language_info": {
      "name": "python"
    }
  },
  "cells": [
    {
      "cell_type": "markdown",
      "metadata": {
        "id": "view-in-github",
        "colab_type": "text"
      },
      "source": [
        "<a href=\"https://colab.research.google.com/github/YaninaK/anomaly-detection/blob/b1/notebooks/04_Apartment_buildings.ipynb\" target=\"_parent\"><img src=\"https://colab.research.google.com/assets/colab-badge.svg\" alt=\"Open In Colab\"/></a>"
      ]
    },
    {
      "cell_type": "markdown",
      "source": [
        "# Обнаружение аномалий в начислениях за тепловую энергию"
      ],
      "metadata": {
        "id": "YC6avPVZnXom"
      }
    },
    {
      "cell_type": "markdown",
      "source": [
        "## 4. Многоквартирные дома. Аномально низкое/высокое (отклонение более 25%) потребление объекта в конкретном месяце по сравнению с аналогичными объектами."
      ],
      "metadata": {
        "id": "qGO_G8BMnsoU"
      }
    },
    {
      "cell_type": "markdown",
      "source": [
        "### Примеры аномалий\n",
        "\n",
        "Виды аномалий по показаниям приборов учёта тепловой энергии, которые необходимо выявлять (кроме объектов с видом энергопотребления ГВС (централ):\n",
        "\n",
        "1. нулевые значения показаний за тепловую энергию в отопительный период (октябрь-апрель);\n",
        "\n",
        "2. равные значения показаний в течение нескольких расчетных периодов;\n",
        "\n",
        "3. снижение/рост показаний в отдельные месяцы по сравнению с показаниями за предыдущие периоды по данному объекту (с учётом фактической температуры наружного воздуха и количества отопительных дней в месяце);\n",
        "\n",
        "4. аномально низкое/высокое (отклонение более 25%) потребление объекта в конкретном месяце по сравнению с аналогичными объектами (только для типов объекта «Многоквартирный дом») по критериям:\n",
        "  - год постройки (по группам до 1958 г., 1959-1989 гг., 1990-2000 гг., 2001-2010 гг., 2011-2024 гг.),\n",
        "  - этажность (по группам 1-2 этажа, 3-4 этажа, 5-9 этажей,10-12 этажей, 13 и более этажей),\n",
        "  - площадь (±10%),\n",
        "  - наличие ГВС ИТП (горячей воды, учитываемой тем же прибором)."
      ],
      "metadata": {
        "id": "hLhLYY3RnYZf"
      }
    },
    {
      "cell_type": "code",
      "source": [
        "initiate = False\n",
        "if initiate:\n",
        "  !git init -q\n",
        "  !git clone -b b1  https://github.com/YaninaK/anomaly-detection.git -q\n",
        "\n",
        "  from google.colab import drive\n",
        "  drive.mount('/content/drive')\n",
        "\n",
        "  !unzip -u -q /content/drive/MyDrive/ML_projects/08_anomaly_detection/data/01_raw/task#3.zip -d /content/anomaly-detection/data/01_raw\n",
        "\n",
        "%cd /content/anomaly-detection/notebooks"
      ],
      "metadata": {
        "colab": {
          "base_uri": "https://localhost:8080/"
        },
        "id": "9T5PIFW9nkte",
        "outputId": "b91bf718-7a3b-4a45-e876-4925c66680e5"
      },
      "execution_count": 1,
      "outputs": [
        {
          "output_type": "stream",
          "name": "stdout",
          "text": [
            "/content/anomaly-detection/notebooks\n"
          ]
        }
      ]
    },
    {
      "cell_type": "code",
      "source": [
        "import os\n",
        "import sys\n",
        "\n",
        "sys.path.append(os.getcwd())\n",
        "sys.path.append(os.path.join(os.getcwd(), \"..\", \"src\", \"anomaly_detection\"))"
      ],
      "metadata": {
        "id": "hh9jEuXgoS-z"
      },
      "execution_count": 2,
      "outputs": []
    },
    {
      "cell_type": "code",
      "source": [
        "import numpy as np\n",
        "import pandas as pd\n",
        "import tensorflow as tf\n",
        "\n",
        "from data.make_dataset import load_data\n",
        "from features.period_anomalies import anomaly_detection_pipeline"
      ],
      "metadata": {
        "id": "GO4WxXbaWmNF"
      },
      "execution_count": 3,
      "outputs": []
    },
    {
      "cell_type": "code",
      "source": [
        "import warnings\n",
        "warnings.filterwarnings('ignore')"
      ],
      "metadata": {
        "id": "oHivKmZootCn"
      },
      "execution_count": 4,
      "outputs": []
    },
    {
      "cell_type": "code",
      "source": [
        "PATH = \"/content/anomaly-detection/\""
      ],
      "metadata": {
        "id": "bo_MfmeRovLm"
      },
      "execution_count": 5,
      "outputs": []
    },
    {
      "cell_type": "markdown",
      "source": [
        "## 1. Чтение данных"
      ],
      "metadata": {
        "id": "ohUkt06fozFD"
      }
    },
    {
      "cell_type": "code",
      "source": [
        "folder_path = '../data/01_raw/'"
      ],
      "metadata": {
        "id": "w4gvHYgDo5TP"
      },
      "execution_count": 6,
      "outputs": []
    },
    {
      "cell_type": "code",
      "source": [
        "regenerate = True\n",
        "data, temperature, buildings = load_data(folder_path, regenerate, path=PATH)"
      ],
      "metadata": {
        "colab": {
          "base_uri": "https://localhost:8080/"
        },
        "id": "alq-1mlaozyh",
        "outputId": "4bdaf4ce-93f6-4123-8486-f3ac346a77f4"
      },
      "execution_count": 7,
      "outputs": [
        {
          "output_type": "stream",
          "name": "stderr",
          "text": [
            "100%|██████████| 24/24 [00:08<00:00,  2.96it/s]\n"
          ]
        }
      ]
    },
    {
      "cell_type": "markdown",
      "source": [
        "## 2. Оценка аномалий"
      ],
      "metadata": {
        "id": "39TnjBaRYbo-"
      }
    },
    {
      "cell_type": "code",
      "source": [
        "%%time\n",
        "period_results = anomaly_detection_pipeline(data, temperature, buildings, path=PATH)"
      ],
      "metadata": {
        "colab": {
          "base_uri": "https://localhost:8080/"
        },
        "id": "_BSvwGh3W627",
        "outputId": "7dd4881b-fd61-4f9a-fc51-1fb52199d6c8"
      },
      "execution_count": 8,
      "outputs": [
        {
          "output_type": "stream",
          "name": "stderr",
          "text": [
            "100%|██████████| 24/24 [00:35<00:00,  1.49s/it]"
          ]
        },
        {
          "output_type": "stream",
          "name": "stdout",
          "text": [
            "CPU times: user 37.5 s, sys: 656 ms, total: 38.2 s\n",
            "Wall time: 38.7 s\n"
          ]
        },
        {
          "output_type": "stream",
          "name": "stderr",
          "text": [
            "\n"
          ]
        }
      ]
    },
    {
      "cell_type": "code",
      "source": [
        "result = period_results[6]\n",
        "\n",
        "alpha = 5\n",
        "beta = 5\n",
        "threshold = 0.25\n",
        "\n",
        "\n",
        "q1 = np.percentile(result[\"Q residuals\"], 100 - alpha)\n",
        "q2 = np.percentile(result[\"Hotelling's T-squared\"], beta)\n",
        "\n",
        "cond1 = result[\"Q residuals\"] > q1\n",
        "cond2 = result[\"Hotelling's T-squared\"] < q2\n",
        "cond3 = result[\"ниже медианы\"]\n",
        "\n",
        "cond4 = result[f\"{threshold}% ниже медианы\"]\n",
        "cond5 = result[f\"{threshold}% выше медианы\"]\n",
        "\n",
        "result[((cond1 | cond2) & cond3) & cond4].shape"
      ],
      "metadata": {
        "colab": {
          "base_uri": "https://localhost:8080/"
        },
        "id": "IuXNdQ3cgksa",
        "outputId": "aea0c361-bd97-48d1-869b-c0a82c7fb5b3"
      },
      "execution_count": 9,
      "outputs": [
        {
          "output_type": "execute_result",
          "data": {
            "text/plain": [
              "(30, 16)"
            ]
          },
          "metadata": {},
          "execution_count": 9
        }
      ]
    },
    {
      "cell_type": "code",
      "source": [
        "result[((cond1 | cond2) & ~cond3) & cond5].shape"
      ],
      "metadata": {
        "colab": {
          "base_uri": "https://localhost:8080/"
        },
        "id": "GDmJWt_mmKqR",
        "outputId": "798164bc-79fe-41f1-c69c-3c3da5140ae6"
      },
      "execution_count": 10,
      "outputs": [
        {
          "output_type": "execute_result",
          "data": {
            "text/plain": [
              "(27, 16)"
            ]
          },
          "metadata": {},
          "execution_count": 10
        }
      ]
    }
  ]
}